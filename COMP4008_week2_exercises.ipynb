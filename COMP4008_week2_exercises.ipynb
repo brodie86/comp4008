{
 "cells": [
  {
   "cell_type": "markdown",
   "metadata": {
    "id": "Xnw1lLDvO_CD"
   },
   "source": [
    "### Lab 2 Part 1: Revising Decision Making using *if* Statements\n",
    "\n",
    "These exercises should be straightforward if you understood last week's work. If you are very confident with last week's exercises, you can skip to Part 2."
   ]
  },
  {
   "cell_type": "markdown",
   "metadata": {
    "id": "OH6onEeQPVGi"
   },
   "source": [
    "**Simple Preliminary Exercise**. In the next block, write a function retired(age) which takes as input a number, called age, and prints the phrase \"eligible to retire\" if the age is over 67, otherwise prints the phrase \"pre-retirement\"."
   ]
  },
  {
   "cell_type": "code",
   "execution_count": 3,
   "metadata": {
    "id": "kCS-UV1bPNZX"
   },
   "outputs": [
    {
     "name": "stdout",
     "output_type": "stream",
     "text": [
      "Enter your age: 70\n",
      "Eligible to Retire\n"
     ]
    }
   ],
   "source": [
    "# write your function here\n",
    "\n",
    "def retired(age):\n",
    "    if age > 67:\n",
    "        print(\"Eligible to Retire\")\n",
    "    else:\n",
    "        print(\"Pre-retirement\")\n",
    "\n",
    "age = int(input('Enter your age: '))\n",
    "retired(age)"
   ]
  },
  {
   "cell_type": "markdown",
   "metadata": {
    "id": "OZLqzQTlPb0C"
   },
   "source": [
    "If your function is working correctly, the following block should output:\\\n",
    "eligible to retire\\\n",
    "pre-retirement\\\n",
    "pre-retirement"
   ]
  },
  {
   "cell_type": "code",
   "execution_count": 4,
   "metadata": {
    "id": "NVXlKQeCPhQF"
   },
   "outputs": [
    {
     "name": "stdout",
     "output_type": "stream",
     "text": [
      "Eligible to Retire\n",
      "Pre-retirement\n",
      "Pre-retirement\n"
     ]
    }
   ],
   "source": [
    "retired(72)\n",
    "retired(67)\n",
    "retired(49)"
   ]
  },
  {
   "cell_type": "markdown",
   "metadata": {
    "id": "qpNbby8VPjjF"
   },
   "source": [
    "**Basic Decision Making.** Have a look at the following function, which returns True if a person is 18 or over and has a \"regular\" membership card, and False otherwise."
   ]
  },
  {
   "cell_type": "code",
   "execution_count": 5,
   "metadata": {
    "id": "hzQd2Ap7PnUb"
   },
   "outputs": [],
   "source": [
    "def allowedToEnter(age,cardType):\n",
    "    if age>=18 and cardType==\"regular\":\n",
    "        return True\n",
    "    else:\n",
    "        return False"
   ]
  },
  {
   "cell_type": "markdown",
   "metadata": {
    "id": "ACaXAJxJQPTo"
   },
   "source": [
    "Run the following tests for this, and check that the answers it gives\n",
    "are consistent with the description:"
   ]
  },
  {
   "cell_type": "code",
   "execution_count": 6,
   "metadata": {
    "id": "I0k2VtdmQTsn"
   },
   "outputs": [
    {
     "name": "stdout",
     "output_type": "stream",
     "text": [
      "True\n",
      "False\n",
      "False\n",
      "True\n"
     ]
    }
   ],
   "source": [
    "print(allowedToEnter(21,\"regular\")) #True\n",
    "print(allowedToEnter(16,\"restricted\")) #False\n",
    "print(allowedToEnter(18,\"restricted\")) #False\n",
    "print(allowedToEnter(18,\"regular\"))#True"
   ]
  },
  {
   "cell_type": "markdown",
   "metadata": {
    "id": "eTbYlBrsQWy-"
   },
   "source": [
    "Make a copy of the *allowedToEnter* function in the next block, and modify it so that the age limit is now 21 or over, and that you can enter using either a \"regular\" or \"special\" card"
   ]
  },
  {
   "cell_type": "code",
   "execution_count": 7,
   "metadata": {
    "id": "D2i6ZutBQfCd"
   },
   "outputs": [],
   "source": [
    "# make your copy of the function here and modify it\n",
    "\n",
    "def allowedToEnter(age,cardType):\n",
    "    if age>=21 and (cardType==\"regular\" or cardType == \"special\"):\n",
    "        return True\n",
    "    else:\n",
    "        return False\n",
    "    "
   ]
  },
  {
   "cell_type": "markdown",
   "metadata": {
    "id": "ttd4UCknQh5V"
   },
   "source": [
    "In the next block, make a copy of the tests from above, and add some new tests to check the changed version of the function"
   ]
  },
  {
   "cell_type": "code",
   "execution_count": 8,
   "metadata": {
    "id": "LaHxm1vkQkRJ"
   },
   "outputs": [
    {
     "name": "stdout",
     "output_type": "stream",
     "text": [
      "True\n",
      "False\n",
      "False\n",
      "False\n",
      "True\n",
      "True\n",
      "False\n"
     ]
    }
   ],
   "source": [
    "# put your tests here\n",
    "print(allowedToEnter(21,\"regular\")) \n",
    "print(allowedToEnter(16,\"restricted\"))\n",
    "print(allowedToEnter(18,\"restricted\")) \n",
    "print(allowedToEnter(18,\"regular\"))\n",
    "\n",
    "print(allowedToEnter(22,\"special\"))\n",
    "print(allowedToEnter(22,\"special\"))\n",
    "print(allowedToEnter(15,'special'))"
   ]
  },
  {
   "cell_type": "markdown",
   "metadata": {
    "id": "VGOelriHQpIM"
   },
   "source": [
    "**Correcting Errors.** The following code is meant to define a function that takes an income value (an integer number), and prints \"no tax\" if the number is 10,000 or less, \"regular tax\" if the income is between 10,001 and 40,000, and \"high tax\" if the income is greater than 40,000. There are (at least) three errors in the code. Find them and correct them."
   ]
  },
  {
   "cell_type": "code",
   "execution_count": 9,
   "metadata": {
    "id": "x649mmGBQxIf"
   },
   "outputs": [
    {
     "name": "stdout",
     "output_type": "stream",
     "text": [
      "no tax\n",
      "regular tax\n",
      "regular tax\n",
      "high tax\n"
     ]
    }
   ],
   "source": [
    "# version with errors\n",
    "\n",
    "def taxBand(income):\n",
    "    if income < 10000:\n",
    "        print(\"no tax\")\n",
    "    elif 10001 <= income <= 40000:\n",
    "        print(\"regular tax\")\n",
    "    else:\n",
    "        print(\"high tax\")\n",
    "\n",
    "taxBand(5000)\n",
    "taxBand(10001)\n",
    "taxBand(40000)\n",
    "taxBand(100000)\n",
    "\n",
    "# '''My function'''\n",
    "# def taxBand(income):\n",
    "#     output = \"\"\n",
    "#     if income < 10000:\n",
    "#         output += \"No tax\"\n",
    "#         return output\n",
    "#     elif income > 10000 and income < 40000:\n",
    "#         output += \"Regular tax\"\n",
    "#         return output\n",
    "#     else:\n",
    "#         output += \"High tax\"\n",
    "#         return output\n",
    "    \n",
    "# print (taxBand(5000))\n",
    "# print (taxBand(10001))\n",
    "# print (taxBand(40000))\n",
    "# print (taxBand(100000))"
   ]
  },
  {
   "cell_type": "markdown",
   "metadata": {
    "id": "vmNw3dKVQz4H"
   },
   "source": [
    "**Pluralising Words.** In the next block, write a function pluralize(word, amount) that takes a word (a text string) and an amount (a number) and returns the number followed by the word. If the number is not 1, add a \"s\" to the word to make it plural. So, for example, \"1 dog\", \"5 cats\", etc. This should take around five lines of Python code. To turn a number into a text string, we use the str() function - you will need to find out how to use this. To combine two strings of text together, use the *+* sign."
   ]
  },
  {
   "cell_type": "code",
   "execution_count": 13,
   "metadata": {
    "id": "7cNIH63uRbvA"
   },
   "outputs": [],
   "source": [
    "#write your function here\n",
    "\n",
    "def pluralise(word, amount):\n",
    "    if amount > 1:\n",
    "        word += \"s\"\n",
    "    output = str(amount) + \" \" + word\n",
    "    return output"
   ]
  },
  {
   "cell_type": "code",
   "execution_count": 14,
   "metadata": {
    "id": "mumkD9MFRcQ6"
   },
   "outputs": [
    {
     "name": "stdout",
     "output_type": "stream",
     "text": [
      "10 dogs\n",
      "1 dog\n"
     ]
    }
   ],
   "source": [
    "# test your function here\n",
    "print(pluralise(\"dog\",10))\n",
    "print(pluralise(\"dog\",1))"
   ]
  },
  {
   "cell_type": "markdown",
   "metadata": {
    "id": "ouCZvoWiRfa7"
   },
   "source": [
    "In the English language, some plurals are *irregular* - the plural form is not obtained by adding an \"s\". For example, the plural of \"sheep\" is \"sheep\" and the plural of \"goose\" is \"geese\". Make a copy of your code into the next block, and change it so that it works correctly with these words"
   ]
  },
  {
   "cell_type": "code",
   "execution_count": 15,
   "metadata": {
    "id": "nK9nBgtURkDM"
   },
   "outputs": [],
   "source": [
    "# copy your function here and modify it\n",
    "\n",
    "def pluralise(word, amount):\n",
    "    try:\n",
    "        if amount < 0:\n",
    "            raise ValueError(\"Amount cannot be negative\")       \n",
    "        \n",
    "        exceptions = {'sheep':'sheep'\n",
    "                     ,'goose':'geese'\n",
    "                     ,'fish':'fish' \n",
    "                     ,'man':'men'\n",
    "                     #...\n",
    "                     }\n",
    "        \n",
    "        numbers = {0:'zero'\n",
    "                  ,1:'one'\n",
    "                  ,2:'two'\n",
    "                  ,3:'three'\n",
    "                  ,4:'four'\n",
    "                  #...\n",
    "                  }\n",
    "        \n",
    "        if amount > 1 or amount == 0:\n",
    "            if word in exceptions:\n",
    "                word = exceptions[word]\n",
    "            else:\n",
    "                word += \"s\"\n",
    "        \n",
    "        if amount in numbers:\n",
    "            amount = numbers[amount]\n",
    "        \n",
    "        output = str(amount) + \" \" + word\n",
    "        return output\n",
    "    \n",
    "    except ValueError as e:\n",
    "        return str(e)"
   ]
  },
  {
   "cell_type": "code",
   "execution_count": 16,
   "metadata": {
    "id": "PyeVtiOnRk-o"
   },
   "outputs": [
    {
     "name": "stdout",
     "output_type": "stream",
     "text": [
      "5 sheep\n",
      "one sheep\n",
      "50 geese\n",
      "1000 fish\n",
      "Amount cannot be negative\n",
      "zero men\n",
      "four cats\n"
     ]
    }
   ],
   "source": [
    "# test your modified function here\n",
    "\n",
    "print(pluralise(\"sheep\",5))\n",
    "print(pluralise(\"sheep\",1))\n",
    "print(pluralise(\"goose\", 50))\n",
    "print(pluralise(\"fish\", 1000))\n",
    "print(pluralise(\"dog\",-1))\n",
    "print(pluralise(\"man\",0))\n",
    "print(pluralise(\"cat\", 4))"
   ]
  },
  {
   "cell_type": "markdown",
   "metadata": {
    "id": "pE4RCthXRnFy"
   },
   "source": [
    "**Extensions**:\\\n",
    "If you are finding the above task fairly easy, here are some extensions to it. These are optional.\n",
    "* check if the number is negative, and return \"error\" instead\n",
    "* if the number is 0, allow it, but replace it with the word \"zero\"\n",
    "* if the number is between 1-10, use the words \"one\",\"two\"... rather than the numbers, otherwise use the number. So \"one cat\", \"three dogs\", \"15 cows\", \"12 geese\" etc. If you know about *dictionaries* in Python, you could use one of those here."
   ]
  },
  {
   "cell_type": "code",
   "execution_count": 17,
   "metadata": {
    "id": "dRKdp8txRuRT"
   },
   "outputs": [],
   "source": [
    "# write your extensions here\n",
    "\n",
    "#extensions above "
   ]
  },
  {
   "cell_type": "markdown",
   "metadata": {
    "id": "6EbTHRe7R8Eo"
   },
   "source": [
    "Write a function sellAlcohol() which implements the process of a cashier deciding whether or not someone can purchase alcoholic drinks in a shop:\n",
    "* The cashier inputs the age that that they think the customer is\n",
    "* if that age is over 25, the function returns the text string \"allowed\"\n",
    "* otherwise, the cashier checks the person's ID card, and inputs:\n",
    "    * the age on on the id card, if the person has ID\n",
    "    * the phrase \"no id\" if the person can't produce it\n",
    "* note that you will have to input this as a text string, then later on convert it to a number using *int()*\n",
    "* if the person has ID that confirms that they are 18 or over, then the function returns the text \"allowed\"\n",
    "* if the person has ID that confirms that they are under 18, then the function returns the text \"not allowed\"\n",
    "* if the person cannot produce ID, then the function returns the string \"not allowed\"\n",
    "This should take around 13 lines of code"
   ]
  },
  {
   "cell_type": "code",
   "execution_count": 18,
   "metadata": {
    "id": "hqRT8yRnR6lz"
   },
   "outputs": [],
   "source": [
    "# write your function in this block\n",
    "\n",
    "def sellAlcohol(age):\n",
    "    output = \"\"\n",
    "    if age > 25:\n",
    "        output += \"Allowed\"\n",
    "        return output\n",
    "    else:\n",
    "        idCheck = input(\"Does the customer have an ID? Y/N: \").lower()\n",
    "        if idCheck == 'y':\n",
    "            idAge = int(input(\"Age on ID?\"))\n",
    "            if idAge > 18:\n",
    "                output += 'Allowed'\n",
    "                return output\n",
    "    output += \"Not allowed\"\n",
    "    return output\n",
    "            \n",
    "# age = int(input(\"Estimate the customers age\"))"
   ]
  },
  {
   "cell_type": "code",
   "execution_count": 19,
   "metadata": {
    "id": "XEshccRGR_lC"
   },
   "outputs": [
    {
     "name": "stdout",
     "output_type": "stream",
     "text": [
      "Allowed\n",
      "Does the customer have an ID? Y/N: y\n",
      "Age on ID?70\n",
      "Allowed\n"
     ]
    }
   ],
   "source": [
    "# use this block to test your function\n",
    "print(sellAlcohol(30))\n",
    "print(sellAlcohol(18))\n"
   ]
  },
  {
   "cell_type": "markdown",
   "metadata": {
    "id": "IyAX-QzzfcRZ"
   },
   "source": [
    "### Lab 2 Part 2: Exercises on Lists, Loops and Decision-making\n",
    "\n",
    "Here are some introductory exercises on lists, loops and decision making (using Python for loops and if statements).\n",
    "\n",
    "To complete each task, you should fill in the code block that begin with a # symbol, replacing the text that is there with your code. Once you have completed the code, either click the \"play\" symbol to the left of the block, or press shift-return on your keyboard. If there is output from that piece of code, it will then display in a new block underneath the code.\n",
    "\n",
    "The tasks use similar ideas to those demonstrated in the lecture on Thursday, so you should have a look at that on Moodle for ideas and inspiration."
   ]
  },
  {
   "cell_type": "markdown",
   "metadata": {
    "id": "TvCSxqmkNIA_"
   },
   "source": [
    "The next block creates a list of four text strings. There is no need to modify the next block."
   ]
  },
  {
   "cell_type": "markdown",
   "metadata": {
    "id": "5Jq4GI9YPNof"
   },
   "source": []
  },
  {
   "cell_type": "code",
   "execution_count": 20,
   "metadata": {
    "id": "UhQIS2lpNYb5"
   },
   "outputs": [],
   "source": [
    "listOfNames = [\"Beaker\", \"Kermit the Frog\", \"Fozzie Bear\", \"Animal\"]"
   ]
  },
  {
   "cell_type": "markdown",
   "metadata": {
    "id": "cCy1OXcNNbkx"
   },
   "source": [
    "In the next block, use the **for** keyword to write the word \"hello\" followed by each name in the list. This should take two lines."
   ]
  },
  {
   "cell_type": "code",
   "execution_count": 21,
   "metadata": {
    "id": "6tUvZA4LNawn"
   },
   "outputs": [
    {
     "name": "stdout",
     "output_type": "stream",
     "text": [
      "Hello Beaker\n",
      "Hello Kermit the Frog\n",
      "Hello Fozzie Bear\n",
      "Hello Animal\n"
     ]
    }
   ],
   "source": [
    "# insert your code here\n",
    "for i in listOfNames:\n",
    "    print ('Hello ' + i)\n"
   ]
  },
  {
   "cell_type": "markdown",
   "metadata": {
    "id": "nU-bzpG2Naol"
   },
   "source": [
    "The following block creates a list of numbers. There is no need to modify the next block."
   ]
  },
  {
   "cell_type": "code",
   "execution_count": 22,
   "metadata": {
    "id": "ytnSgACwNacD"
   },
   "outputs": [],
   "source": [
    "listOfNumbers = [12,43,26,34,84,16,7,99]"
   ]
  },
  {
   "cell_type": "markdown",
   "metadata": {
    "id": "V9kXqiBxNaPj"
   },
   "source": [
    "In the next block, write five lines of code that loops through the list and prints the number followed by the word \"big\" if it is greater than 50, otherwise if it is less than or equal to 50, prints the word \"small\""
   ]
  },
  {
   "cell_type": "code",
   "execution_count": 23,
   "metadata": {
    "id": "PDYb1j1COeBa"
   },
   "outputs": [
    {
     "name": "stdout",
     "output_type": "stream",
     "text": [
      "12 small\n",
      "43 small\n",
      "26 small\n",
      "34 small\n",
      "84 big\n",
      "16 small\n",
      "7 small\n",
      "99 big\n"
     ]
    }
   ],
   "source": [
    "for i in listOfNumbers:\n",
    "    if i > 50:\n",
    "        print(str(i) + \" big\")\n",
    "    else:\n",
    "        print(str(i) + \" small\")"
   ]
  },
  {
   "cell_type": "markdown",
   "metadata": {
    "id": "fe8bgr7bqFGn"
   },
   "source": [
    "In the next block, write code that goes through the **listOfNames**, printing the name and \"long name\" if the length of the name is greater than 8 letters (characters) long, and \"small name\" if it's length is 8 or less. Remember that the **len** function gets the length of a string of text."
   ]
  },
  {
   "cell_type": "code",
   "execution_count": 24,
   "metadata": {
    "id": "wvRpsviNyVsZ"
   },
   "outputs": [
    {
     "name": "stdout",
     "output_type": "stream",
     "text": [
      "Beaker small name\n",
      "Kermit the Frog long name\n",
      "Fozzie Bear long name\n",
      "Animal small name\n"
     ]
    }
   ],
   "source": [
    "## replace this comment with your code\n",
    "\n",
    "for i in listOfNames:\n",
    "    if len(i) > 8:\n",
    "        print(i + \" long name\")\n",
    "    else:\n",
    "        print(i + \" small name\")"
   ]
  },
  {
   "cell_type": "markdown",
   "metadata": {
    "id": "clLhwD2vtIX5"
   },
   "source": [
    "In the next block, write code that creates two empty lists: longNames, and shortNames. Then, write a loop that goes through listOfNames, appending the name to shortNames if it is 8 or fewer characters long, and otherwise to longNames. Finally, your code should print out the two lists."
   ]
  },
  {
   "cell_type": "code",
   "execution_count": 25,
   "metadata": {
    "id": "imBGCDAKvTn-"
   },
   "outputs": [
    {
     "name": "stdout",
     "output_type": "stream",
     "text": [
      "['Kermit the Frog', 'Fozzie Bear'] ['Beaker', 'Animal']\n"
     ]
    }
   ],
   "source": [
    "## replace this comment with your code\n",
    "\n",
    "longNames = []\n",
    "shortNames = []\n",
    "for i in listOfNames:\n",
    "    if len(i) > 8:\n",
    "        longNames.append(i)\n",
    "    else:\n",
    "        shortNames.append(i)\n",
    "        \n",
    "print(longNames, shortNames)"
   ]
  },
  {
   "cell_type": "markdown",
   "metadata": {
    "id": "E64PFwlkQteu"
   },
   "source": [
    "The next block contains a list of names and birthdays. Each entry in the list consists of a name, then the month, then the day. So, for example, [\"Kermit the Frog\", 10, 8] means that Kermit was born on the 8th October. There is no need to modify the next block."
   ]
  },
  {
   "cell_type": "code",
   "execution_count": 26,
   "metadata": {
    "id": "aX54Bt7oQuFh"
   },
   "outputs": [],
   "source": [
    "listOfNamesAndBirthdays = [ [\"Beaker\", 10,7], [\"Kermit the Frog\",10,8],[\"Gonzo\",6,20], [\"Fozzie Bear\",10,7], [\"Animal\",10,11], [\"Miss Piggy\", 10,8] ]"
   ]
  },
  {
   "cell_type": "markdown",
   "metadata": {
    "id": "AEhM5z5hQuY5"
   },
   "source": [
    "The next block contains some code to show how to get the current day and month. Add code to this that loops through **listOfNamesAndBirthdays**, and prints \"Happy birthday\" followed by the name if it is their birthday today."
   ]
  },
  {
   "cell_type": "code",
   "execution_count": 27,
   "metadata": {
    "colab": {
     "base_uri": "https://localhost:8080/"
    },
    "id": "xzNQuYlpQunD",
    "outputId": "5d668bde-4095-45a7-88c8-f29ef8f355cd"
   },
   "outputs": [
    {
     "name": "stdout",
     "output_type": "stream",
     "text": [
      "Happy Birthday, Kermit the Frog\n",
      "Happy Birthday, Miss Piggy\n"
     ]
    }
   ],
   "source": [
    "import datetime\n",
    "todaysDate = datetime.date.today()\n",
    "# print(todaysDate.month)\n",
    "# print(todaysDate.day)\n",
    "# add your code here\n",
    "\n",
    "for i in listOfNamesAndBirthdays: #index: 1 = month, 2 =  day\n",
    "    if i[1] == todaysDate.month and i[2] == todaysDate.day:\n",
    "        print(\"Happy Birthday, \" + i[0])"
   ]
  },
  {
   "cell_type": "markdown",
   "metadata": {
    "id": "wed7tnaMO7uC"
   },
   "source": [
    "### Lab 2 Part 3: A More Complex Greetings Loop"
   ]
  },
  {
   "cell_type": "markdown",
   "metadata": {
    "id": "BcOiQa3UPFy_"
   },
   "source": [
    "In the next block, write a list of 26 greetings, one beginning with each letter of the alphabet; e.g. [\"A good day to\", \"Best wishes to\", \"Coo-ee\", \"Do have a good day\",...\".\n",
    "\n",
    "Then write code that goes through **listOfNames**, choosing the greeting that begins with the same letter, and print the greeting with the same first letter as the name; e.g. \"Best wishes to Beaker\".\n",
    "\n"
   ]
  },
  {
   "cell_type": "code",
   "execution_count": 28,
   "metadata": {
    "id": "Cp9OVayuPFPr"
   },
   "outputs": [
    {
     "name": "stdout",
     "output_type": "stream",
     "text": [
      "Bonjour!, Beaker\n",
      "Konnichiwa!, Kermit the Frog\n",
      "Fantastic to have you here!, Fozzie Bear\n",
      "Awesome to see you!, Animal\n"
     ]
    }
   ],
   "source": [
    "# insert your code here\n",
    "\n",
    "\n",
    "greetings = [\n",
    "    'Awesome to see you!', 'Bonjour!', 'Cheers!', 'Delighted to meet you!', 'Excited to see you!', \n",
    "    'Fantastic to have you here!', 'Good day!', 'Hello!', 'Howdy!', 'It’s great to see you!', \n",
    "    'Joyful greetings!', 'Konnichiwa!', 'Lovely to see you!', 'Nice to meet you!', 'Oh, hello!', \n",
    "    'Pleasure to meet you!', 'Quick hello!', 'Really great to see you!', 'Salutations!', \n",
    "    'Terrific to meet you!', 'Uplifting greetings!', 'Very nice to meet you!', 'Welcome!', \n",
    "    'X-cellent to see you!', 'Yay, you’re here!', 'Zesty greetings!'\n",
    "] #generated using a LLM\n",
    "\n",
    "for i in listOfNames:\n",
    "    for j in greetings:\n",
    "        if j[0] == i[0]:\n",
    "            print(j + \", \" + i)"
   ]
  },
  {
   "cell_type": "markdown",
   "metadata": {
    "id": "xMua9JnyhG2e"
   },
   "source": [
    "### Lab 2 Part 4: A Number-Guessing Game\n",
    "\n",
    "The aim of this exercise is to build a number-guessing game. The computer will generate a list of six numbers in the range 1-20, and the aim of the player is to guess the six numbers. There are various clues given to help the player to guess which numbers are in the list."
   ]
  },
  {
   "cell_type": "markdown",
   "metadata": {
    "id": "vkY-eCLCh3l5"
   },
   "source": [
    "Here is a list of six numbers:"
   ]
  },
  {
   "cell_type": "code",
   "execution_count": 29,
   "metadata": {
    "id": "j-ItKXpuhrFv"
   },
   "outputs": [],
   "source": [
    "numbersToGuess = [5,2,6,12,17,13]"
   ]
  },
  {
   "cell_type": "markdown",
   "metadata": {
    "id": "eW_PLwjuiSmD"
   },
   "source": [
    "In the next block, write one line of code that prints the numbers to the screen."
   ]
  },
  {
   "cell_type": "code",
   "execution_count": 30,
   "metadata": {
    "id": "IATF6B9ph2y6"
   },
   "outputs": [
    {
     "name": "stdout",
     "output_type": "stream",
     "text": [
      "[5, 2, 6, 12, 17, 13]\n"
     ]
    }
   ],
   "source": [
    "# write your code here\n",
    "print(numbersToGuess)"
   ]
  },
  {
   "cell_type": "markdown",
   "metadata": {
    "id": "vjrLXzAlijoQ"
   },
   "source": [
    "Imagine that the player types the number 6. In the next block, using the keywords **if** and **in** write a couple of lines of code that check whether the number is in the list, and if so, prints the word \"correct\"."
   ]
  },
  {
   "cell_type": "code",
   "execution_count": 31,
   "metadata": {
    "id": "XWIvcugujEk_"
   },
   "outputs": [
    {
     "name": "stdout",
     "output_type": "stream",
     "text": [
      "Correct\n"
     ]
    }
   ],
   "source": [
    "# write your code here\n",
    "\n",
    "if 6 in numbersToGuess:\n",
    "    print('Correct')\n",
    "else:\n",
    "    print('Incorrect')"
   ]
  },
  {
   "cell_type": "markdown",
   "metadata": {
    "id": "W0h-4J5Mjbas"
   },
   "source": [
    "The function **random.randint()** generates a random integer in a given range. It is part of the **random** module, so we need to use **import random** to tell Python that we will be using that module. For example, here is how we generate a random number in the range 1-20. This block is just an example, you do not need to add anything to it or change it."
   ]
  },
  {
   "cell_type": "code",
   "execution_count": 32,
   "metadata": {
    "id": "No_I7HQcjzFY"
   },
   "outputs": [
    {
     "name": "stdout",
     "output_type": "stream",
     "text": [
      "18\n"
     ]
    }
   ],
   "source": [
    "import random\n",
    "# random.seed(1)\n",
    "randomNumber = random.randint(1,20)\n",
    "print(randomNumber)"
   ]
  },
  {
   "cell_type": "markdown",
   "metadata": {
    "id": "fWta_9VAkVNB"
   },
   "source": [
    "In the next block, use the **random.randint()** function, and a **for** loop to put six random numbers in the list **numbersToGuess**. So, instead of using a fixed list of numbers as we have been doing so far, a new list will be generated each time."
   ]
  },
  {
   "cell_type": "code",
   "execution_count": 33,
   "metadata": {
    "id": "bWZq_bEUlJXs"
   },
   "outputs": [
    {
     "name": "stdout",
     "output_type": "stream",
     "text": [
      "[10, 5, 1, 10, 8, 17]\n"
     ]
    }
   ],
   "source": [
    "numbersToGuess = []\n",
    "\n",
    "# prefer the use of a while loop here?\n",
    "\n",
    "count = 0\n",
    "while count != 6:\n",
    "    numbersToGuess.append(random.randint(1,20))\n",
    "    count += 1\n",
    "    \n",
    "print(numbersToGuess)"
   ]
  },
  {
   "cell_type": "markdown",
   "metadata": {
    "id": "83PZ_CErlpK9"
   },
   "source": [
    "The next block shows how to use the **input()** function to get a number from the user. This block is just an example, you do not need to add anything to it or change it."
   ]
  },
  {
   "cell_type": "code",
   "execution_count": 34,
   "metadata": {
    "id": "K5sdXVgnmHfP"
   },
   "outputs": [
    {
     "name": "stdout",
     "output_type": "stream",
     "text": [
      "Guess a number: 10\n",
      "10\n"
     ]
    }
   ],
   "source": [
    "myGuess = int(input(\"Guess a number: \"))\n",
    "print(myGuess)"
   ]
  },
  {
   "cell_type": "markdown",
   "metadata": {
    "id": "rBGnwul5mLyW"
   },
   "source": [
    "In the next block, use the **def** keyword to write a function called **makeAGuess** that takes as input a list of numbers, uses the **int(input())** function from the previous block to get a number from the user, and uses the **if**, **in**, **not** and **return** keywords to return the word \"correct\" if the number is in the list, otherwise it returns the word \"missing\""
   ]
  },
  {
   "cell_type": "code",
   "execution_count": 35,
   "metadata": {
    "id": "r-fHjEBcnB05"
   },
   "outputs": [],
   "source": [
    "def makeAGuess(listOfNumbers):\n",
    "    guess = int(input('Guess a number: '))\n",
    "    if guess in listOfNumbers:\n",
    "        return 'correct'\n",
    "    else:\n",
    "        return 'missing'"
   ]
  },
  {
   "cell_type": "markdown",
   "metadata": {
    "id": "OwgW0sj3zfMK"
   },
   "source": [
    "Use the following code to check whether you have written the makeAGuess function correctly. Remember to test it both with examples from the list, and examples that are missing from the list."
   ]
  },
  {
   "cell_type": "code",
   "execution_count": 36,
   "metadata": {
    "id": "rf5OHqjdzurw"
   },
   "outputs": [
    {
     "name": "stdout",
     "output_type": "stream",
     "text": [
      "[10, 5, 1, 10, 8, 17]\n",
      "Guess a number: 10\n",
      "correct\n"
     ]
    }
   ],
   "source": [
    "print(numbersToGuess)\n",
    "print(makeAGuess(numbersToGuess))"
   ]
  },
  {
   "cell_type": "markdown",
   "metadata": {
    "id": "P-VvKxm3zzkG"
   },
   "source": [
    "Now, we are going to give the player 10 attempts to guess the number. In the next block, write code to create a random list of numbers, write a **for** loop that repeats 10 times (remember that **range(10)** creates a list of 10 numbers), then uses **makeAGuess** to see if the number is in the list. If the guess is in the list, remove the number from the list (to do this, you will need to find out how use the **remove()** function). Finally, print out how many numbers the player didn't guess."
   ]
  },
  {
   "cell_type": "code",
   "execution_count": 39,
   "metadata": {
    "id": "girYPYzQ0P3g"
   },
   "outputs": [
    {
     "name": "stdout",
     "output_type": "stream",
     "text": [
      "Guess a number: 1\n",
      "Better luck next time\n",
      "Guess a number: 1\n",
      "Better luck next time\n",
      "Guess a number: 1\n",
      "Better luck next time\n",
      "Guess a number: 1\n",
      "Better luck next time\n",
      "Guess a number: 1\n",
      "Better luck next time\n",
      "Guess a number: 1\n",
      "Better luck next time\n",
      "Guess a number: 1\n",
      "Better luck next time\n",
      "Guess a number: 1\n",
      "Better luck next time\n",
      "Guess a number: 1\n",
      "Better luck next time\n",
      "Guess a number: 1\n",
      "Better luck next time\n",
      "3\n"
     ]
    }
   ],
   "source": [
    "def randomNumbers():\n",
    "    numbersToGuess = []\n",
    "    count = 0\n",
    "    while count != 3:\n",
    "        numbersToGuess.append(random.randint(1,20))\n",
    "        count += 1\n",
    "    return numbersToGuess\n",
    "\n",
    "def makeAGuess(numbersToGuess):\n",
    "    count = 0 \n",
    "    while count != 10:\n",
    "        guess = int(input('Guess a number: '))\n",
    "        if guess in numbersToGuess:\n",
    "            print ('Congratulations')\n",
    "            numbersToGuess.remove(guess)\n",
    "        else:\n",
    "            print('Better luck next time')\n",
    "        count += 1\n",
    "\n",
    "    return numbersToGuess\n",
    "    \n",
    "\n",
    "numbersToGuess = randomNumbers()\n",
    "remainingNumbers = makeAGuess(numbersToGuess)\n",
    "print (len(remainingNumbers))"
   ]
  },
  {
   "cell_type": "markdown",
   "metadata": {
    "id": "2RA7YbzPDjw-"
   },
   "source": [
    "**More challenging:** Define a function nextTo(guess, listOfNumbers) which takes a guess number and a list of numbers, and returns \"nearby\" if one or more of the numbers in listOfNumbers is next to the guess by 1. Otherwise, it returns \"not found\". So, for example, if the list was [3,7,14] and the guess was 4, it would return \"nearby\", because 4 is 3+1, whereas if the guess was 11, it would return. \"not found\" because the nearby numbers to 11 are 10 and 12, neither of which is in the list. This is a more advanced exercise, I am not expecting everyone to get this far."
   ]
  },
  {
   "cell_type": "code",
   "execution_count": 40,
   "metadata": {
    "id": "h6xgmroMEKVi"
   },
   "outputs": [
    {
     "name": "stdout",
     "output_type": "stream",
     "text": [
      "[17, 15, 10]\n"
     ]
    },
    {
     "data": {
      "text/plain": [
       "'nearby'"
      ]
     },
     "execution_count": 40,
     "metadata": {},
     "output_type": "execute_result"
    }
   ],
   "source": [
    "## insert your code here\n",
    "\n",
    "def nextTo(guess, numbersToGuess):\n",
    "    for i in numbersToGuess:\n",
    "        if abs(guess - i) == 1:\n",
    "            return 'nearby'\n",
    "    return 'not found'\n",
    "\n",
    "\n",
    "numbersToGuess = randomNumbers()\n",
    "print(numbersToGuess)\n",
    "\n",
    "nextTo(11,numbersToGuess)"
   ]
  },
  {
   "cell_type": "markdown",
   "metadata": {
    "id": "krAOhIM7FGMM"
   },
   "source": [
    "**More challenging:** Now, use this **nextTo** function to change the game, so that the game gives a clue to the user to say whether their guess was next to one of the remaining numbers or not. This is a more advanced exercise, I am not expecting everyone to get this far."
   ]
  },
  {
   "cell_type": "code",
   "execution_count": 41,
   "metadata": {
    "id": "cFhtLGsMFeSs"
   },
   "outputs": [
    {
     "name": "stdout",
     "output_type": "stream",
     "text": [
      "Numbers to guess (for testing): [6, 11, 12]\n",
      "Guess a number: 1\n",
      "Your guess is not nearby any of the remaining numbers.\n",
      "Guess a number: 2\n",
      "Your guess is not nearby any of the remaining numbers.\n",
      "Guess a number: 3\n",
      "Your guess is not nearby any of the remaining numbers.\n",
      "Guess a number: 4\n",
      "Your guess is not nearby any of the remaining numbers.\n",
      "Guess a number: 5\n",
      "Your guess is nearby one of the remaining numbers.\n",
      "Guess a number: 6\n",
      "Congratulations! You guessed correctly.\n",
      "Guess a number: 11\n",
      "Congratulations! You guessed correctly.\n",
      "Guess a number: 12\n",
      "Congratulations! You guessed correctly.\n",
      "Guess a number: 1\n",
      "Your guess is not nearby any of the remaining numbers.\n",
      "Guess a number: 2\n",
      "Your guess is not nearby any of the remaining numbers.\n",
      "Remaining numbers: []\n"
     ]
    }
   ],
   "source": [
    "## insert your code here\n",
    "def makeAGuess(numbersToGuess):\n",
    "    count = 0 \n",
    "    while count != 10: \n",
    "        guess = int(input('Guess a number: '))\n",
    "        if guess in numbersToGuess:\n",
    "            print('Congratulations! You guessed correctly.')\n",
    "            numbersToGuess.remove(guess)\n",
    "        else:\n",
    "            clue = nextTo(guess, numbersToGuess)\n",
    "            if clue == \"nearby\":\n",
    "                print('Your guess is nearby one of the remaining numbers.')\n",
    "            else:\n",
    "                print('Your guess is not nearby any of the remaining numbers.')\n",
    "        count += 1\n",
    "\n",
    "    return numbersToGuess\n",
    "\n",
    "numbersToGuess = randomNumbers()\n",
    "print(\"Numbers to guess (for testing):\", numbersToGuess)\n",
    "remainingNumbers = makeAGuess(numbersToGuess)\n",
    "print(\"Remaining numbers:\", remainingNumbers)"
   ]
  },
  {
   "cell_type": "markdown",
   "metadata": {
    "id": "8jFDFM3t3Xl5"
   },
   "source": [
    "**Extensions:** If you have found the above exercises straightforward, here are a number of extensions that you can implement during the lab or in your own time. These are challenging, and I would not expect most students to be doing these.\n",
    "\n",
    "The main area where you can improve the game is by giving additional clues to the player. For example:\n",
    "*   Giving the user the average of the numbers in the list\n",
    "*   Giving the user some indication of the ranges in which the numbers in the list sit \"there are 3 numbers in the range 1-5, none in the range 6-10, 1 in the range 11-15,...\"\n",
    "*   Giving the user a list of the digits in the numbers, but shuffled together: so, if the list was [34,62,14] the user would be given a clue such as 612443.\n",
    "*   Giving the user an anagram of one of the numbers in words. This is particularly challenging\n",
    "\n",
    "You might also investigate giving the user more feedback on wrong guesses:\n",
    "*   \"3 of the numbers in the list are higher than your guess, and 2 lower\"\n",
    "\n",
    "\n"
   ]
  },
  {
   "cell_type": "code",
   "execution_count": 67,
   "metadata": {},
   "outputs": [
    {
     "name": "stdout",
     "output_type": "stream",
     "text": [
      "Numbers to guess (for testing): [8, 3, 20]\n",
      "Mean of remaining numbers: 10.333333333333334\n",
      "Guess a number: 8\n",
      "Congratulations! You guessed correctly.\n",
      "\n",
      "Mean of remaining numbers: 11.5\n",
      "Guess a number: 20\n",
      "Congratulations! You guessed correctly.\n",
      "\n",
      "Mean of remaining numbers: 3.0\n",
      "Guess a number: 3\n",
      "Congratulations! You guessed correctly.\n",
      "\n",
      "Remaining numbers: []\n"
     ]
    }
   ],
   "source": [
    "def getMean(numbersToGuess):\n",
    "    mean = sum(numbersToGuess) / len(numbersToGuess)\n",
    "    return mean\n",
    "\n",
    "def makeAGuess(numbersToGuess):\n",
    "    count = 0 \n",
    "    while count != 3: \n",
    "        print('Mean of remaining numbers: ' + str(getMean(numbersToGuess)))\n",
    "        guess = int(input('Guess a number: '))\n",
    "        if guess in numbersToGuess:\n",
    "            print('Congratulations! You guessed correctly.')\n",
    "            numbersToGuess.remove(guess)\n",
    "        else:\n",
    "            clue = nextTo(guess, numbersToGuess)\n",
    "            if clue == \"nearby\":\n",
    "                print('Your guess is nearby one of the remaining numbers.')\n",
    "            else:\n",
    "                print('Your guess is not nearby any of the remaining numbers.')\n",
    "        print('')\n",
    "        count += 1\n",
    "\n",
    "    return numbersToGuess\n",
    "\n",
    "numbersToGuess = randomNumbers()\n",
    "print(\"Numbers to guess (for testing):\", numbersToGuess)\n",
    "remainingNumbers = makeAGuess(numbersToGuess)\n",
    "print(\"Remaining numbers:\", remainingNumbers)"
   ]
  },
  {
   "cell_type": "code",
   "execution_count": 53,
   "metadata": {},
   "outputs": [
    {
     "name": "stdout",
     "output_type": "stream",
     "text": [
      "11\n",
      "13\n",
      "8\n"
     ]
    },
    {
     "data": {
      "text/plain": [
       "'13118'"
      ]
     },
     "execution_count": 53,
     "metadata": {},
     "output_type": "execute_result"
    }
   ],
   "source": [
    "# Shuffled number clue\n",
    "# these functions require implementing into main function makeAGuess()\n",
    "\n",
    "import random\n",
    "\n",
    "def shuffleClue(numbersToGuess):\n",
    "    numberstring = \"\"\n",
    "    for i in numbersToGuess:\n",
    "        print(i)\n",
    "        numberstring += str(i)\n",
    "    \n",
    "    return \"\".join(random.sample(numberstring,len(numberstring)))\n",
    "    \n",
    "shuffleClue(randomNumbers())"
   ]
  },
  {
   "cell_type": "code",
   "execution_count": 66,
   "metadata": {},
   "outputs": [
    {
     "data": {
      "text/plain": [
       "'froneteu'"
      ]
     },
     "execution_count": 66,
     "metadata": {},
     "output_type": "execute_result"
    }
   ],
   "source": [
    "# Anagram clue \n",
    "import random\n",
    "\n",
    "numbers = {\n",
    "    0: 'zero', 1: 'one', 2: 'two', 3: 'three', 4: 'four', 5: 'five', \n",
    "    6: 'six', 7: 'seven', 8: 'eight', 9: 'nine', 10: 'ten',\n",
    "    11: 'eleven', 12: 'twelve', 13: 'thirteen', 14: 'fourteen', \n",
    "    15: 'fifteen', 16: 'sixteen', 17: 'seventeen', 18: 'eighteen', \n",
    "    19: 'nineteen', 20: 'twenty'\n",
    "}\n",
    "\n",
    "def anagramClue(numbersToGuess,numbers):\n",
    "    x = random.choice(numbersToGuess)\n",
    "    if x in numbers:\n",
    "        x = numbers[x]\n",
    "    return \"\".join(random.sample(x,len(x)))\n",
    "\n",
    "anagramClue(randomNumbers(),numbers)\n",
    "     "
   ]
  }
 ],
 "metadata": {
  "colab": {
   "provenance": []
  },
  "kernelspec": {
   "display_name": "Python 3",
   "language": "python",
   "name": "python3"
  },
  "language_info": {
   "codemirror_mode": {
    "name": "ipython",
    "version": 3
   },
   "file_extension": ".py",
   "mimetype": "text/x-python",
   "name": "python",
   "nbconvert_exporter": "python",
   "pygments_lexer": "ipython3",
   "version": "3.12.0"
  }
 },
 "nbformat": 4,
 "nbformat_minor": 1
}
