{
  "cells": [
    {
      "cell_type": "markdown",
      "metadata": {
        "id": "jRqYzUSdHjb5"
      },
      "source": [
        "# Lab 4: Classes\n",
        "\n",
        "In this lab, you will learn some details of OOP in Python and put your knowledge into practice by developing and testing two classes: `Person` and `Database`.\n",
        "\n",
        "## Exercise 1\n",
        "\n",
        "Create class `Person` to store information about a person.  Include the following attributes:\n",
        "\n",
        "*   First name\n",
        "*   Last name\n",
        "*   Year of birth (e.g., 1990)\n",
        "*   Parent 1 (an object of class `Person`)\n",
        "*   Parent 2 (an object of class `Person`)\n",
        "\n",
        "_Note that Parent 1 and Parent 2 are not strings!_\n",
        "\n",
        "Refer to the lecture code for an example of how to create a class and store data in its attributes.\n",
        "\n",
        "An interesting detail about this example is the recursion within class `Person`; two attributes of class `Person` person are of type `Person`.  We will talk about the mechanisc of this in the coming lectures.  In the meantime, you may face a dilemma; when creating an object of class `Person`, you may not always want to specify the parents.  You will need to find a way to keep this flexible: specify the parents when you need but also allow skipping one or both of them.  There exist many reasonable approaches to this problem; you can use any of them.\n",
        "\n",
        "Your implementation of `Person` should also include several methods:\n",
        "*   Constructor `__init__` that initialises the object.\n",
        "*   `__str__` function.  This is a standard function that takes no parameters (only `self`) and returns a string representation of the object.  Every time you call the `str` function in Python, Python actually calls the `__str__` function of the object that is being converted into a string.  In this exercise, you will probably want to return the full name of the person, although you may also include some other infromation.\n",
        "*   `get_full_name` that returns the full name of the person.\n",
        "*   `get_age` that calculates the current age of the person.  Your implementation should check the current year (Google how to do this) and subtract the year of birth.\n",
        "*   `get_parents` that returns the list of known parents (it can be empty, or contain one or two elements).  Note that this should be a list of objects of class `Parent`, not their names.\n",
        "\n",
        "Write your code below.  In this and the following exercises, you will need to determinte the most appropriate parameter lists for each method.\n",
        "\n",
        "\n",
        "\n"
      ]
    },
    {
      "cell_type": "code",
      "execution_count": 79,
      "metadata": {
        "id": "NXKQS15GJ134"
      },
      "outputs": [],
      "source": [
        "import datetime\n",
        "\n",
        "class Person:\n",
        "    # Constructor __init__ initialises each object: it is always called when an object is created\n",
        "    # Default option for parents as None: there does not need to be parent objects to create an object\n",
        "    def __init__(self, first_name, last_name, yob, parent1 = None, parent2 = None):\n",
        "        self.first_name = first_name\n",
        "        self.last_name = last_name\n",
        "        self.yob = yob\n",
        "        self.parent1 = parent1\n",
        "        self.parent2 = parent2\n",
        "\n",
        "    # Default option when calling an object\n",
        "    def __str__(self):\n",
        "        return f\"Name: {self.first_name} {self.last_name}, Year of birth: {self.yob}\"\n",
        "    \n",
        "    # Default option when calling a list of objects\n",
        "    def __repr__(self):\n",
        "        return f\"Name: {self.first_name} {self.last_name}, Year of birth: {self.yob}\"\n",
        "    \n",
        "    # Functions for each objects \n",
        "    def get_fullname(self):\n",
        "        return f\"{self.first_name} {self.last_name}\"\n",
        "    \n",
        "    def get_age(self):\n",
        "        return datetime.datetime.now().year - self.yob\n",
        "    \n",
        "    # return a list of the parent objects if parent1 and parent2 exist.\n",
        "    def get_parents(self):\n",
        "        parents = []\n",
        "        if self.parent1:\n",
        "            parents.append(self.parent1)\n",
        "        if self.parent2:\n",
        "            parents.append(self.parent2)\n",
        "        return parents\n",
        "\n",
        "\n",
        "# Testing\n",
        "\n",
        "parent1 = Person(\"John\", \"Doe\", 1980)\n",
        "parent2 = Person(\"Jane\", \"Doe\", 1982)\n",
        "alice = Person(\"Alice\", \"Doe\", 2005, parent1, parent2)\n",
        "bob = Person(\"Bob\", \"Doe\", 2007, parent1, parent2)\n",
        "charlie = Person(\"Charlie\", \"Doe\", 2009, parent1, parent2)\n",
        "daisy = Person(\"Daisy\", \"Doe\", 2011, parent1, parent2)\n",
        "ethan = Person(\"Ethan\", \"Doe\", 2013, parent1, parent2)\n",
        "fiona = Person(\"Fiona\", \"Doe\", 2015, parent1, parent2)\n",
        "gabe = Person(\"Gabe\", \"Doe\", 2017, parent1, parent2)\n",
        "hannah = Person(\"Hannah\", \"Doe\", 2019, parent1, parent2)"
      ]
    },
    {
      "cell_type": "markdown",
      "metadata": {
        "id": "DIv6rzWKrZiQ"
      },
      "source": [
        "If you tried printing a list of `Person` objects, you probably noticed that Python does not use the `__str__` function.  The `__str__` function is supposed to produce a user-friendly representation of the object whereas the assumption is that the default string representation of a list is not user-friendly.  Try implementing the `__repr__` function (you can use the same implementation as your `__str__` function)."
      ]
    },
    {
      "cell_type": "markdown",
      "metadata": {
        "id": "quzRm_bDHeQ_"
      },
      "source": [
        "## Exercise 2\n",
        "\n",
        "Create a class `Database` that stores multiple records of people (objects of type `Person`).  It should implement the following methods:\n",
        "* `add_person` that adds a new person to the database.\n",
        "* `get_children` that returns the list of children of a given person.\n",
        "* `get_siblings` that returns the list of full siblings of a given person, i.e. people who share both parents.  Assume that people with less than two specified parents cannot have full siblings."
      ]
    },
    {
      "cell_type": "code",
      "execution_count": 80,
      "metadata": {
        "id": "-zecBO-fK19k"
      },
      "outputs": [],
      "source": [
        "class Database:\n",
        "    # No attributes. Create empty list called people for each object Database\n",
        "    def __init__(self):\n",
        "        self.people = []\n",
        "\n",
        "    def __str__(self):\n",
        "        return f\"{self.people}\"\n",
        "    \n",
        "    # Pass object person: append person to list 'people'. will show default string from previous class\n",
        "    def add_person(self, person):\n",
        "        self.people.append(person)\n",
        "\n",
        "    # Pass object person. loop through each object in the database list\n",
        "    # Can obtain indivdual attributes from each object being looped through\n",
        "    def get_children(self, person):\n",
        "        children = []\n",
        "        for i in self.people:\n",
        "            if i.parent1 == person or i.parent2 == person:\n",
        "                children.append(i)\n",
        "        return children\n",
        "    # If object attributes parent1 or parent 2 is equal to passed person then that object is the persons child.\n",
        "\n",
        "    def get_siblings(self, person):\n",
        "        siblings = []\n",
        "        for i in self.people:\n",
        "            if (i.parent1 == person.parent1 or i.parent1 == person.parent2 or i.parent2 \\\n",
        "                == person.parent1 or i.parent2 == person.parent2) and i != person:\n",
        "                siblings.append(i)\n",
        "        return siblings\n",
        "\n",
        "# Test your Database class here: create an object of class Database and populate\n",
        "# it with several people.  Test all the functions that you implemented.\n",
        "\n",
        "db = Database()\n",
        "db.add_person(parent1)\n",
        "db.add_person(parent2)\n",
        "db.add_person(alice)\n",
        "db.add_person(bob)\n",
        "db.add_person(charlie)\n",
        "db.add_person(daisy)\n",
        "db.add_person(ethan)\n",
        "db.add_person(fiona)\n",
        "db.add_person(gabe)\n",
        "db.add_person(hannah)"
      ]
    },
    {
      "cell_type": "markdown",
      "metadata": {
        "id": "x5VPX5ptLbgu"
      },
      "source": [
        "## Exercise 3\n",
        "\n",
        "There is a small issue with the `Database` class from Exercise 2.  If someone accidentally adds the same person twice, there will be two identical records in the database.  Modify your implementation of the `Database.add_person` method so that it allows only one record for each person in the database.  An attempt to add a duplicate record should result in a warning message while leaving the database unchanged.  Assume that the name, surname and year of birth uniquely identify a person.\n",
        "\n",
        "Test your updated implementation of `add_person`."
      ]
    },
    {
      "cell_type": "code",
      "execution_count": 81,
      "metadata": {
        "id": "9JhYMG_6MQ6Y"
      },
      "outputs": [
        {
          "name": "stdout",
          "output_type": "stream",
          "text": [
            "[Name: John Doe, Year of birth: 1980]\n"
          ]
        }
      ],
      "source": [
        "class Database:\n",
        "    # No attributes. Create empty list called people for each object Database\n",
        "    def __init__(self):\n",
        "        self.people = []\n",
        "\n",
        "    def __str__(self):\n",
        "        return f\"{self.people}\"\n",
        "    \n",
        "    # Pass object person: append person to list 'people'. will show default string from previous class\n",
        "    def add_person(self, person):\n",
        "\n",
        "        # Validated function \n",
        "        for i in self.people:\n",
        "            if person.yob == i.yob and person.first_name == i.first_name \\\n",
        "            and person.last_name == i.last_name:\n",
        "                return\n",
        "        self.people.append(person)\n",
        "\n",
        "\n",
        "    # Pass object person. loop through each object in the database list\n",
        "    # Can obtain indivdual attributes from each object being looped through\n",
        "    def get_children(self, person):\n",
        "        children = []\n",
        "        for i in self.people:\n",
        "            if i.parent1 == person or i.parent2 == person:\n",
        "                children.append(i)\n",
        "        return children\n",
        "    # If object attributes parent1 or parent 2 is equal to passed person then that object is the persons child.\n",
        "\n",
        "    def get_siblings(self, person):\n",
        "        siblings = []\n",
        "        for i in self.people:\n",
        "            if (i.parent1 == person.parent1 or i.parent1 == person.parent2 or i.parent2 \\\n",
        "                == person.parent1 or i.parent2 == person.parent2) and i != person:\n",
        "                siblings.append(i)\n",
        "        return siblings\n",
        "\n",
        "\n",
        "# Test your updated Database class here.  Include a test that creates two\n",
        "# records (two objects of class Person) with exactly the same name, surname\n",
        "# and year of birth.  Does your implementation correctly handle this?\n",
        "\n",
        "db = Database()\n",
        "db.add_person(parent1)\n",
        "db.add_person(parent1)\n",
        "print(db)"
      ]
    }
  ],
  "metadata": {
    "colab": {
      "provenance": []
    },
    "kernelspec": {
      "display_name": "Python 3",
      "name": "python3"
    },
    "language_info": {
      "codemirror_mode": {
        "name": "ipython",
        "version": 3
      },
      "file_extension": ".py",
      "mimetype": "text/x-python",
      "name": "python",
      "nbconvert_exporter": "python",
      "pygments_lexer": "ipython3",
      "version": "3.12.0"
    }
  },
  "nbformat": 4,
  "nbformat_minor": 0
}
